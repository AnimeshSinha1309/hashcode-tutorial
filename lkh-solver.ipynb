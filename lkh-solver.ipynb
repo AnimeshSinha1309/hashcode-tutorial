{
 "cells": [
  {
   "metadata": {
    "_uuid": "29afc3b0d8559f7d0c87e8d6682b7e5f7458f4e8"
   },
   "cell_type": "markdown",
   "source": [
    "<h2>LKH 2.0.9</h2>\n",
    "\n",
    "**Note:** Notebook borrowed from Kagggle author `jsaguiar`\n",
    "\n",
    "LKH is an effective implementation of the Lin-Kernighan heuristic and is considered one of the best algorithms available for the TSP problem. Even though the algorithm is approximate, optimal solutions are produced with an impressively high frequency. It has been implemented in the programming language C and is distributed for academic and non-commercial use.\n",
    "\n",
    "In this notebook I will show how to run LKH for this competition in a kernel environment. For more information please refer to [the official page](http://akira.ruc.dk/~keld/research/LKH/) or the [original paper](http://akira.ruc.dk/~keld/research/LKH/LKH-2.0/DOC/LKH_REPORT.pdf). \n",
    "\n",
    "Notes:\n",
    "\n",
    "* I'm not considering the prime penalty.\n",
    "* Internet must be enabled.\n",
    "\n",
    "\n",
    "Acknowledgments:  LKH author, [Keld Helsgaun](https://www.kaggle.com/keldhelsgaun).\n"
   ]
  },
  {
   "metadata": {
    "_uuid": "7f503d209d91b81472834f4f6af8b3cdfcd935ad"
   },
   "cell_type": "markdown",
   "source": [
    "<h2>2. Build LKH</h2>"
   ]
  },
  {
   "metadata": {
    "trusted": true,
    "_uuid": "ee3b2477f712d188ae3cc43bb134780ecee7a00c",
    "_kg_hide-output": true
   },
   "cell_type": "code",
   "source": [
    "%%bash -e\n",
    "wget http://akira.ruc.dk/~keld/research/LKH/LKH-2.0.9.tgz\n",
    "tar xvfz LKH-2.0.9.tgz\n",
    "cd LKH-2.0.9\n",
    "make"
   ],
   "execution_count": 2,
   "outputs": [
    {
     "name": "stdout",
     "output_type": "stream",
     "text": [
      "LKH-2.0.9/\n",
      "LKH-2.0.9/pr2392.par\n",
      "LKH-2.0.9/E3k.0.par\n",
      "LKH-2.0.9/Makefile\n",
      "LKH-2.0.9/xray14012_1.tsp\n",
      "LKH-2.0.9/E3k.0.pi\n",
      "LKH-2.0.9/E3k.0.tsp\n",
      "LKH-2.0.9/pr2392.tsp\n",
      "LKH-2.0.9/DOC/\n",
      "LKH-2.0.9/README.txt\n",
      "LKH-2.0.9/xray14012_1.par\n",
      "LKH-2.0.9/SRC/\n",
      "LKH-2.0.9/SRC/RestoreTour.c\n",
      "LKH-2.0.9/SRC/SolveKMeansSubproblems.c\n",
      "LKH-2.0.9/SRC/IsCommonEdge.c\n",
      "LKH-2.0.9/SRC/ReadProblem.c\n",
      "LKH-2.0.9/SRC/BestKOptMove.c\n",
      "LKH-2.0.9/SRC/Distance_SPECIAL.c\n",
      "LKH-2.0.9/SRC/CreateCandidateSet.c\n",
      "LKH-2.0.9/SRC/OBJ/\n",
      "LKH-2.0.9/SRC/Forbidden.c\n",
      "LKH-2.0.9/SRC/Best5OptMove.c\n",
      "LKH-2.0.9/SRC/RecordBetterTour.c\n",
      "LKH-2.0.9/SRC/Best4OptMove.c\n",
      "LKH-2.0.9/SRC/Exclude.c\n",
      "LKH-2.0.9/SRC/C.c\n",
      "LKH-2.0.9/SRC/IsCandidate.c\n",
      "LKH-2.0.9/SRC/Make3OptMove.c\n",
      "LKH-2.0.9/SRC/Make2OptMove.c\n",
      "LKH-2.0.9/SRC/ResetCandidateSet.c\n",
      "LKH-2.0.9/SRC/LKHmain.c\n",
      "LKH-2.0.9/SRC/SolveSFCSubproblems.c\n",
      "LKH-2.0.9/SRC/ERXT.c\n",
      "LKH-2.0.9/SRC/fscanint.c\n",
      "LKH-2.0.9/SRC/eprintf.c\n",
      "LKH-2.0.9/SRC/Gain23.c\n",
      "LKH-2.0.9/SRC/Heap.c\n",
      "LKH-2.0.9/SRC/GetTime.c\n",
      "LKH-2.0.9/SRC/SolveRoheSubproblems.c\n",
      "LKH-2.0.9/SRC/ReadPenalties.c\n",
      "LKH-2.0.9/SRC/Excludable.c\n",
      "LKH-2.0.9/SRC/SolveCompressedSubproblem.c\n",
      "LKH-2.0.9/SRC/Statistics.c\n",
      "LKH-2.0.9/SRC/PatchCycles.c\n",
      "LKH-2.0.9/SRC/MergeWithTourGPX2.c\n",
      "LKH-2.0.9/SRC/Sequence.c\n",
      "LKH-2.0.9/SRC/SolveDelaunaySubproblems.c\n",
      "LKH-2.0.9/SRC/WritePenalties.c\n",
      "LKH-2.0.9/SRC/NormalizeNodeList.c\n",
      "LKH-2.0.9/SRC/FreeStructures.c\n",
      "LKH-2.0.9/SRC/SolveKarpSubproblems.c\n",
      "LKH-2.0.9/SRC/Makefile\n",
      "LKH-2.0.9/SRC/Between_SL.c\n",
      "LKH-2.0.9/SRC/INCLUDE/\n",
      "LKH-2.0.9/SRC/IsPossibleCandidate.c\n",
      "LKH-2.0.9/SRC/NormalizeSegmentList.c\n",
      "LKH-2.0.9/SRC/Hashing.c\n",
      "LKH-2.0.9/SRC/LinKernighan.c\n",
      "LKH-2.0.9/SRC/gpx.c\n",
      "LKH-2.0.9/SRC/AdjustCandidateSet.c\n",
      "LKH-2.0.9/SRC/AllocateStructures.c\n",
      "LKH-2.0.9/SRC/Flip_SSL.c\n",
      "LKH-2.0.9/SRC/MakeKOptMove.c\n",
      "LKH-2.0.9/SRC/BuildKDTree.c\n",
      "LKH-2.0.9/SRC/SolveTourSegmentSubproblems.c\n",
      "LKH-2.0.9/SRC/Random.c\n",
      "LKH-2.0.9/SRC/CreateDelaunayCandidateSet.c\n",
      "LKH-2.0.9/SRC/SolveSubproblemBorderProblems.c\n",
      "LKH-2.0.9/SRC/ReadParameters.c\n",
      "LKH-2.0.9/SRC/FixedOrCommonCandidates.c\n",
      "LKH-2.0.9/SRC/Best2OptMove.c\n",
      "LKH-2.0.9/SRC/Best3OptMove.c\n",
      "LKH-2.0.9/SRC/ReadCandidates.c\n",
      "LKH-2.0.9/SRC/Make4OptMove.c\n",
      "LKH-2.0.9/SRC/Make5OptMove.c\n",
      "LKH-2.0.9/SRC/CreateNNCandidateSet.c\n",
      "LKH-2.0.9/SRC/GenerateCandidates.c\n",
      "LKH-2.0.9/SRC/Between.c\n",
      "LKH-2.0.9/SRC/Flip_SL.c\n",
      "LKH-2.0.9/SRC/Activate.c\n",
      "LKH-2.0.9/SRC/SegmentSize.c\n",
      "LKH-2.0.9/SRC/SolveSubproblem.c\n",
      "LKH-2.0.9/SRC/MergeWithTourIPT.c\n",
      "LKH-2.0.9/SRC/StoreTour.c\n",
      "LKH-2.0.9/SRC/GreedyTour.c\n",
      "LKH-2.0.9/SRC/PrintParameters.c\n",
      "LKH-2.0.9/SRC/SFCTour.c\n",
      "LKH-2.0.9/SRC/Minimum1TreeCost.c\n",
      "LKH-2.0.9/SRC/MergeTourWithBestTour.c\n",
      "LKH-2.0.9/SRC/ReadEdges.c\n",
      "LKH-2.0.9/SRC/BridgeGain.c\n",
      "LKH-2.0.9/SRC/WriteCandidates.c\n",
      "LKH-2.0.9/SRC/Flip.c\n",
      "LKH-2.0.9/SRC/WriteTour.c\n",
      "LKH-2.0.9/SRC/Delaunay.c\n",
      "LKH-2.0.9/SRC/CreateQuadrantCandidateSet.c\n",
      "LKH-2.0.9/SRC/IsBackboneCandidate.c\n",
      "LKH-2.0.9/SRC/ReadLine.c\n",
      "LKH-2.0.9/SRC/RecordBestTour.c\n",
      "LKH-2.0.9/SRC/CandidateReport.c\n",
      "LKH-2.0.9/SRC/OrderCandidateSet.c\n",
      "LKH-2.0.9/SRC/AddExtraCandidates.c\n",
      "LKH-2.0.9/SRC/Distance.c\n",
      "LKH-2.0.9/SRC/Genetic.c\n",
      "LKH-2.0.9/SRC/AdjustClusters.c\n",
      "LKH-2.0.9/SRC/AddTourCandidates.c\n",
      "LKH-2.0.9/SRC/KSwapKick.c\n",
      "LKH-2.0.9/SRC/Connect.c\n",
      "LKH-2.0.9/SRC/RemoveFirstActive.c\n",
      "LKH-2.0.9/SRC/Ascent.c\n",
      "LKH-2.0.9/SRC/TrimCandidateSet.c\n",
      "LKH-2.0.9/SRC/printff.c\n",
      "LKH-2.0.9/SRC/Between_SSL.c\n",
      "LKH-2.0.9/SRC/Create_POPMUSIC_CandidateSet.c\n",
      "LKH-2.0.9/SRC/GeoConversion.c\n",
      "LKH-2.0.9/SRC/FindTour.c\n",
      "LKH-2.0.9/SRC/SymmetrizeCandidateSet.c\n",
      "LKH-2.0.9/SRC/ChooseInitialTour.c\n",
      "LKH-2.0.9/SRC/SolveKCenterSubproblems.c\n",
      "LKH-2.0.9/SRC/AddCandidate.c\n",
      "LKH-2.0.9/SRC/MinimumSpanningTree.c\n",
      "LKH-2.0.9/SRC/INCLUDE/Genetic.h\n",
      "LKH-2.0.9/SRC/INCLUDE/Segment.h\n",
      "LKH-2.0.9/SRC/INCLUDE/Delaunay.h\n",
      "LKH-2.0.9/SRC/INCLUDE/GeoConversion.h\n",
      "LKH-2.0.9/SRC/INCLUDE/LKH.h\n",
      "LKH-2.0.9/SRC/INCLUDE/Sequence.h\n",
      "LKH-2.0.9/SRC/INCLUDE/GainType.h\n",
      "LKH-2.0.9/SRC/INCLUDE/Heap.h\n",
      "LKH-2.0.9/SRC/INCLUDE/Hashing.h\n",
      "LKH-2.0.9/SRC/INCLUDE/gpx.h\n",
      "LKH-2.0.9/DOC/POPMUSIC_REPORT.pdf\n",
      "LKH-2.0.9/DOC/LKH_Genetic.pdf\n",
      "LKH-2.0.9/DOC/LKH_REPORT.pdf\n",
      "LKH-2.0.9/DOC/LKH-2_USER_GUIDE.pdf\n",
      "LKH-2.0.9/DOC/TSPLIB_DOC.pdf\n",
      "make -C SRC all\n",
      "make[1]: Entering directory '/home/gt/iiit/hashcode-tutorial/LKH-2.0.9/SRC'\n",
      "make LKH\n",
      "make[2]: Entering directory '/home/gt/iiit/hashcode-tutorial/LKH-2.0.9/SRC'\n",
      "cc -c -o OBJ/Activate.o Activate.c -O3 -Wall -IINCLUDE -DTWO_LEVEL_TREE -g\n",
      "cc -c -o OBJ/AddCandidate.o AddCandidate.c -O3 -Wall -IINCLUDE -DTWO_LEVEL_TREE -g\n",
      "cc -c -o OBJ/AddExtraCandidates.o AddExtraCandidates.c -O3 -Wall -IINCLUDE -DTWO_LEVEL_TREE -g\n",
      "cc -c -o OBJ/AddTourCandidates.o AddTourCandidates.c -O3 -Wall -IINCLUDE -DTWO_LEVEL_TREE -g\n",
      "cc -c -o OBJ/AdjustCandidateSet.o AdjustCandidateSet.c -O3 -Wall -IINCLUDE -DTWO_LEVEL_TREE -g\n",
      "cc -c -o OBJ/AdjustClusters.o AdjustClusters.c -O3 -Wall -IINCLUDE -DTWO_LEVEL_TREE -g\n",
      "cc -c -o OBJ/AllocateStructures.o AllocateStructures.c -O3 -Wall -IINCLUDE -DTWO_LEVEL_TREE -g\n",
      "cc -c -o OBJ/Ascent.o Ascent.c -O3 -Wall -IINCLUDE -DTWO_LEVEL_TREE -g\n",
      "cc -c -o OBJ/Best2OptMove.o Best2OptMove.c -O3 -Wall -IINCLUDE -DTWO_LEVEL_TREE -g\n",
      "cc -c -o OBJ/Best3OptMove.o Best3OptMove.c -O3 -Wall -IINCLUDE -DTWO_LEVEL_TREE -g\n",
      "cc -c -o OBJ/Best4OptMove.o Best4OptMove.c -O3 -Wall -IINCLUDE -DTWO_LEVEL_TREE -g\n",
      "cc -c -o OBJ/Best5OptMove.o Best5OptMove.c -O3 -Wall -IINCLUDE -DTWO_LEVEL_TREE -g\n",
      "cc -c -o OBJ/BestKOptMove.o BestKOptMove.c -O3 -Wall -IINCLUDE -DTWO_LEVEL_TREE -g\n",
      "cc -c -o OBJ/Between.o Between.c -O3 -Wall -IINCLUDE -DTWO_LEVEL_TREE -g\n",
      "cc -c -o OBJ/Between_SL.o Between_SL.c -O3 -Wall -IINCLUDE -DTWO_LEVEL_TREE -g\n",
      "cc -c -o OBJ/Between_SSL.o Between_SSL.c -O3 -Wall -IINCLUDE -DTWO_LEVEL_TREE -g\n",
      "cc -c -o OBJ/BridgeGain.o BridgeGain.c -O3 -Wall -IINCLUDE -DTWO_LEVEL_TREE -g\n",
      "cc -c -o OBJ/BuildKDTree.o BuildKDTree.c -O3 -Wall -IINCLUDE -DTWO_LEVEL_TREE -g\n",
      "cc -c -o OBJ/C.o C.c -O3 -Wall -IINCLUDE -DTWO_LEVEL_TREE -g\n",
      "cc -c -o OBJ/CandidateReport.o CandidateReport.c -O3 -Wall -IINCLUDE -DTWO_LEVEL_TREE -g\n",
      "cc -c -o OBJ/ChooseInitialTour.o ChooseInitialTour.c -O3 -Wall -IINCLUDE -DTWO_LEVEL_TREE -g\n",
      "cc -c -o OBJ/Connect.o Connect.c -O3 -Wall -IINCLUDE -DTWO_LEVEL_TREE -g\n",
      "cc -c -o OBJ/CreateCandidateSet.o CreateCandidateSet.c -O3 -Wall -IINCLUDE -DTWO_LEVEL_TREE -g\n",
      "cc -c -o OBJ/CreateDelaunayCandidateSet.o CreateDelaunayCandidateSet.c -O3 -Wall -IINCLUDE -DTWO_LEVEL_TREE -g\n",
      "cc -c -o OBJ/CreateNNCandidateSet.o CreateNNCandidateSet.c -O3 -Wall -IINCLUDE -DTWO_LEVEL_TREE -g\n",
      "cc -c -o OBJ/Create_POPMUSIC_CandidateSet.o Create_POPMUSIC_CandidateSet.c -O3 -Wall -IINCLUDE -DTWO_LEVEL_TREE -g\n",
      "cc -c -o OBJ/CreateQuadrantCandidateSet.o CreateQuadrantCandidateSet.c -O3 -Wall -IINCLUDE -DTWO_LEVEL_TREE -g\n",
      "cc -c -o OBJ/Delaunay.o Delaunay.c -O3 -Wall -IINCLUDE -DTWO_LEVEL_TREE -g\n",
      "cc -c -o OBJ/Distance.o Distance.c -O3 -Wall -IINCLUDE -DTWO_LEVEL_TREE -g\n",
      "cc -c -o OBJ/Distance_SPECIAL.o Distance_SPECIAL.c -O3 -Wall -IINCLUDE -DTWO_LEVEL_TREE -g\n",
      "cc -c -o OBJ/eprintf.o eprintf.c -O3 -Wall -IINCLUDE -DTWO_LEVEL_TREE -g\n",
      "cc -c -o OBJ/ERXT.o ERXT.c -O3 -Wall -IINCLUDE -DTWO_LEVEL_TREE -g\n",
      "cc -c -o OBJ/Excludable.o Excludable.c -O3 -Wall -IINCLUDE -DTWO_LEVEL_TREE -g\n",
      "cc -c -o OBJ/Exclude.o Exclude.c -O3 -Wall -IINCLUDE -DTWO_LEVEL_TREE -g\n",
      "cc -c -o OBJ/FindTour.o FindTour.c -O3 -Wall -IINCLUDE -DTWO_LEVEL_TREE -g\n",
      "cc -c -o OBJ/FixedOrCommonCandidates.o FixedOrCommonCandidates.c -O3 -Wall -IINCLUDE -DTWO_LEVEL_TREE -g\n",
      "cc -c -o OBJ/Flip.o Flip.c -O3 -Wall -IINCLUDE -DTWO_LEVEL_TREE -g\n",
      "cc -c -o OBJ/Flip_SL.o Flip_SL.c -O3 -Wall -IINCLUDE -DTWO_LEVEL_TREE -g\n",
      "cc -c -o OBJ/Flip_SSL.o Flip_SSL.c -O3 -Wall -IINCLUDE -DTWO_LEVEL_TREE -g\n",
      "cc -c -o OBJ/Forbidden.o Forbidden.c -O3 -Wall -IINCLUDE -DTWO_LEVEL_TREE -g\n",
      "cc -c -o OBJ/FreeStructures.o FreeStructures.c -O3 -Wall -IINCLUDE -DTWO_LEVEL_TREE -g\n",
      "cc -c -o OBJ/fscanint.o fscanint.c -O3 -Wall -IINCLUDE -DTWO_LEVEL_TREE -g\n",
      "cc -c -o OBJ/Gain23.o Gain23.c -O3 -Wall -IINCLUDE -DTWO_LEVEL_TREE -g\n",
      "cc -c -o OBJ/GenerateCandidates.o GenerateCandidates.c -O3 -Wall -IINCLUDE -DTWO_LEVEL_TREE -g\n",
      "cc -c -o OBJ/Genetic.o Genetic.c -O3 -Wall -IINCLUDE -DTWO_LEVEL_TREE -g\n",
      "cc -c -o OBJ/GeoConversion.o GeoConversion.c -O3 -Wall -IINCLUDE -DTWO_LEVEL_TREE -g\n",
      "cc -c -o OBJ/GetTime.o GetTime.c -O3 -Wall -IINCLUDE -DTWO_LEVEL_TREE -g\n",
      "cc -c -o OBJ/GreedyTour.o GreedyTour.c -O3 -Wall -IINCLUDE -DTWO_LEVEL_TREE -g\n",
      "cc -c -o OBJ/Hashing.o Hashing.c -O3 -Wall -IINCLUDE -DTWO_LEVEL_TREE -g\n",
      "cc -c -o OBJ/Heap.o Heap.c -O3 -Wall -IINCLUDE -DTWO_LEVEL_TREE -g\n",
      "cc -c -o OBJ/IsBackboneCandidate.o IsBackboneCandidate.c -O3 -Wall -IINCLUDE -DTWO_LEVEL_TREE -g\n",
      "cc -c -o OBJ/IsCandidate.o IsCandidate.c -O3 -Wall -IINCLUDE -DTWO_LEVEL_TREE -g\n",
      "cc -c -o OBJ/IsCommonEdge.o IsCommonEdge.c -O3 -Wall -IINCLUDE -DTWO_LEVEL_TREE -g\n",
      "cc -c -o OBJ/IsPossibleCandidate.o IsPossibleCandidate.c -O3 -Wall -IINCLUDE -DTWO_LEVEL_TREE -g\n",
      "cc -c -o OBJ/KSwapKick.o KSwapKick.c -O3 -Wall -IINCLUDE -DTWO_LEVEL_TREE -g\n",
      "cc -c -o OBJ/LinKernighan.o LinKernighan.c -O3 -Wall -IINCLUDE -DTWO_LEVEL_TREE -g\n",
      "cc -c -o OBJ/LKHmain.o LKHmain.c -O3 -Wall -IINCLUDE -DTWO_LEVEL_TREE -g\n",
      "cc -c -o OBJ/Make2OptMove.o Make2OptMove.c -O3 -Wall -IINCLUDE -DTWO_LEVEL_TREE -g\n",
      "cc -c -o OBJ/Make3OptMove.o Make3OptMove.c -O3 -Wall -IINCLUDE -DTWO_LEVEL_TREE -g\n",
      "cc -c -o OBJ/Make4OptMove.o Make4OptMove.c -O3 -Wall -IINCLUDE -DTWO_LEVEL_TREE -g\n",
      "cc -c -o OBJ/Make5OptMove.o Make5OptMove.c -O3 -Wall -IINCLUDE -DTWO_LEVEL_TREE -g\n",
      "cc -c -o OBJ/MakeKOptMove.o MakeKOptMove.c -O3 -Wall -IINCLUDE -DTWO_LEVEL_TREE -g\n",
      "cc -c -o OBJ/MergeTourWithBestTour.o MergeTourWithBestTour.c -O3 -Wall -IINCLUDE -DTWO_LEVEL_TREE -g\n",
      "cc -c -o OBJ/MergeWithTourIPT.o MergeWithTourIPT.c -O3 -Wall -IINCLUDE -DTWO_LEVEL_TREE -g\n",
      "cc -c -o OBJ/Minimum1TreeCost.o Minimum1TreeCost.c -O3 -Wall -IINCLUDE -DTWO_LEVEL_TREE -g\n",
      "cc -c -o OBJ/MinimumSpanningTree.o MinimumSpanningTree.c -O3 -Wall -IINCLUDE -DTWO_LEVEL_TREE -g\n",
      "cc -c -o OBJ/NormalizeNodeList.o NormalizeNodeList.c -O3 -Wall -IINCLUDE -DTWO_LEVEL_TREE -g\n",
      "cc -c -o OBJ/NormalizeSegmentList.o NormalizeSegmentList.c -O3 -Wall -IINCLUDE -DTWO_LEVEL_TREE -g\n",
      "cc -c -o OBJ/OrderCandidateSet.o OrderCandidateSet.c -O3 -Wall -IINCLUDE -DTWO_LEVEL_TREE -g\n",
      "cc -c -o OBJ/PatchCycles.o PatchCycles.c -O3 -Wall -IINCLUDE -DTWO_LEVEL_TREE -g\n",
      "cc -c -o OBJ/printff.o printff.c -O3 -Wall -IINCLUDE -DTWO_LEVEL_TREE -g\n",
      "cc -c -o OBJ/PrintParameters.o PrintParameters.c -O3 -Wall -IINCLUDE -DTWO_LEVEL_TREE -g\n",
      "cc -c -o OBJ/Random.o Random.c -O3 -Wall -IINCLUDE -DTWO_LEVEL_TREE -g\n",
      "cc -c -o OBJ/ReadCandidates.o ReadCandidates.c -O3 -Wall -IINCLUDE -DTWO_LEVEL_TREE -g\n",
      "cc -c -o OBJ/ReadEdges.o ReadEdges.c -O3 -Wall -IINCLUDE -DTWO_LEVEL_TREE -g\n",
      "cc -c -o OBJ/ReadLine.o ReadLine.c -O3 -Wall -IINCLUDE -DTWO_LEVEL_TREE -g\n",
      "cc -c -o OBJ/ReadParameters.o ReadParameters.c -O3 -Wall -IINCLUDE -DTWO_LEVEL_TREE -g\n",
      "cc -c -o OBJ/ReadPenalties.o ReadPenalties.c -O3 -Wall -IINCLUDE -DTWO_LEVEL_TREE -g\n",
      "cc -c -o OBJ/ReadProblem.o ReadProblem.c -O3 -Wall -IINCLUDE -DTWO_LEVEL_TREE -g\n",
      "cc -c -o OBJ/RecordBestTour.o RecordBestTour.c -O3 -Wall -IINCLUDE -DTWO_LEVEL_TREE -g\n",
      "cc -c -o OBJ/RecordBetterTour.o RecordBetterTour.c -O3 -Wall -IINCLUDE -DTWO_LEVEL_TREE -g\n",
      "cc -c -o OBJ/RemoveFirstActive.o RemoveFirstActive.c -O3 -Wall -IINCLUDE -DTWO_LEVEL_TREE -g\n",
      "cc -c -o OBJ/ResetCandidateSet.o ResetCandidateSet.c -O3 -Wall -IINCLUDE -DTWO_LEVEL_TREE -g\n",
      "cc -c -o OBJ/RestoreTour.o RestoreTour.c -O3 -Wall -IINCLUDE -DTWO_LEVEL_TREE -g\n",
      "cc -c -o OBJ/SegmentSize.o SegmentSize.c -O3 -Wall -IINCLUDE -DTWO_LEVEL_TREE -g\n",
      "cc -c -o OBJ/Sequence.o Sequence.c -O3 -Wall -IINCLUDE -DTWO_LEVEL_TREE -g\n",
      "cc -c -o OBJ/SFCTour.o SFCTour.c -O3 -Wall -IINCLUDE -DTWO_LEVEL_TREE -g\n",
      "cc -c -o OBJ/SolveCompressedSubproblem.o SolveCompressedSubproblem.c -O3 -Wall -IINCLUDE -DTWO_LEVEL_TREE -g\n",
      "cc -c -o OBJ/SolveDelaunaySubproblems.o SolveDelaunaySubproblems.c -O3 -Wall -IINCLUDE -DTWO_LEVEL_TREE -g\n",
      "cc -c -o OBJ/SolveKarpSubproblems.o SolveKarpSubproblems.c -O3 -Wall -IINCLUDE -DTWO_LEVEL_TREE -g\n",
      "cc -c -o OBJ/SolveKCenterSubproblems.o SolveKCenterSubproblems.c -O3 -Wall -IINCLUDE -DTWO_LEVEL_TREE -g\n",
      "cc -c -o OBJ/SolveKMeansSubproblems.o SolveKMeansSubproblems.c -O3 -Wall -IINCLUDE -DTWO_LEVEL_TREE -g\n",
      "cc -c -o OBJ/SolveRoheSubproblems.o SolveRoheSubproblems.c -O3 -Wall -IINCLUDE -DTWO_LEVEL_TREE -g\n",
      "cc -c -o OBJ/SolveSFCSubproblems.o SolveSFCSubproblems.c -O3 -Wall -IINCLUDE -DTWO_LEVEL_TREE -g\n",
      "cc -c -o OBJ/SolveSubproblem.o SolveSubproblem.c -O3 -Wall -IINCLUDE -DTWO_LEVEL_TREE -g\n",
      "cc -c -o OBJ/SolveSubproblemBorderProblems.o SolveSubproblemBorderProblems.c -O3 -Wall -IINCLUDE -DTWO_LEVEL_TREE -g\n",
      "cc -c -o OBJ/SolveTourSegmentSubproblems.o SolveTourSegmentSubproblems.c -O3 -Wall -IINCLUDE -DTWO_LEVEL_TREE -g\n",
      "cc -c -o OBJ/Statistics.o Statistics.c -O3 -Wall -IINCLUDE -DTWO_LEVEL_TREE -g\n",
      "cc -c -o OBJ/StoreTour.o StoreTour.c -O3 -Wall -IINCLUDE -DTWO_LEVEL_TREE -g\n",
      "cc -c -o OBJ/SymmetrizeCandidateSet.o SymmetrizeCandidateSet.c -O3 -Wall -IINCLUDE -DTWO_LEVEL_TREE -g\n",
      "cc -c -o OBJ/TrimCandidateSet.o TrimCandidateSet.c -O3 -Wall -IINCLUDE -DTWO_LEVEL_TREE -g\n",
      "cc -c -o OBJ/WriteCandidates.o WriteCandidates.c -O3 -Wall -IINCLUDE -DTWO_LEVEL_TREE -g\n",
      "cc -c -o OBJ/WritePenalties.o WritePenalties.c -O3 -Wall -IINCLUDE -DTWO_LEVEL_TREE -g\n",
      "cc -c -o OBJ/WriteTour.o WriteTour.c -O3 -Wall -IINCLUDE -DTWO_LEVEL_TREE -g\n",
      "cc -c -o OBJ/MergeWithTourGPX2.o MergeWithTourGPX2.c -O3 -Wall -IINCLUDE -DTWO_LEVEL_TREE -g\n",
      "cc -c -o OBJ/gpx.o gpx.c -O3 -Wall -IINCLUDE -DTWO_LEVEL_TREE -g\n",
      "cc -o ../LKH OBJ/Activate.o OBJ/AddCandidate.o OBJ/AddExtraCandidates.o OBJ/AddTourCandidates.o OBJ/AdjustCandidateSet.o OBJ/AdjustClusters.o OBJ/AllocateStructures.o OBJ/Ascent.o OBJ/Best2OptMove.o OBJ/Best3OptMove.o OBJ/Best4OptMove.o OBJ/Best5OptMove.o OBJ/BestKOptMove.o OBJ/Between.o OBJ/Between_SL.o OBJ/Between_SSL.o OBJ/BridgeGain.o OBJ/BuildKDTree.o OBJ/C.o OBJ/CandidateReport.o OBJ/ChooseInitialTour.o OBJ/Connect.o OBJ/CreateCandidateSet.o OBJ/CreateDelaunayCandidateSet.o OBJ/CreateNNCandidateSet.o OBJ/Create_POPMUSIC_CandidateSet.o OBJ/CreateQuadrantCandidateSet.o OBJ/Delaunay.o OBJ/Distance.o OBJ/Distance_SPECIAL.o OBJ/eprintf.o OBJ/ERXT.o OBJ/Excludable.o OBJ/Exclude.o OBJ/FindTour.o OBJ/FixedOrCommonCandidates.o OBJ/Flip.o OBJ/Flip_SL.o OBJ/Flip_SSL.o OBJ/Forbidden.o OBJ/FreeStructures.o OBJ/fscanint.o OBJ/Gain23.o OBJ/GenerateCandidates.o OBJ/Genetic.o OBJ/GeoConversion.o OBJ/GetTime.o OBJ/GreedyTour.o OBJ/Hashing.o OBJ/Heap.o OBJ/IsBackboneCandidate.o OBJ/IsCandidate.o OBJ/IsCommonEdge.o OBJ/IsPossibleCandidate.o OBJ/KSwapKick.o OBJ/LinKernighan.o OBJ/LKHmain.o OBJ/Make2OptMove.o OBJ/Make3OptMove.o OBJ/Make4OptMove.o OBJ/Make5OptMove.o OBJ/MakeKOptMove.o OBJ/MergeTourWithBestTour.o OBJ/MergeWithTourIPT.o OBJ/Minimum1TreeCost.o OBJ/MinimumSpanningTree.o OBJ/NormalizeNodeList.o OBJ/NormalizeSegmentList.o OBJ/OrderCandidateSet.o OBJ/PatchCycles.o OBJ/printff.o OBJ/PrintParameters.o OBJ/Random.o OBJ/ReadCandidates.o OBJ/ReadEdges.o OBJ/ReadLine.o OBJ/ReadParameters.o OBJ/ReadPenalties.o OBJ/ReadProblem.o OBJ/RecordBestTour.o OBJ/RecordBetterTour.o OBJ/RemoveFirstActive.o OBJ/ResetCandidateSet.o OBJ/RestoreTour.o OBJ/SegmentSize.o OBJ/Sequence.o OBJ/SFCTour.o OBJ/SolveCompressedSubproblem.o OBJ/SolveDelaunaySubproblems.o OBJ/SolveKarpSubproblems.o OBJ/SolveKCenterSubproblems.o OBJ/SolveKMeansSubproblems.o OBJ/SolveRoheSubproblems.o OBJ/SolveSFCSubproblems.o OBJ/SolveSubproblem.o OBJ/SolveSubproblemBorderProblems.o OBJ/SolveTourSegmentSubproblems.o OBJ/Statistics.o OBJ/StoreTour.o OBJ/SymmetrizeCandidateSet.o OBJ/TrimCandidateSet.o OBJ/WriteCandidates.o OBJ/WritePenalties.o OBJ/WriteTour.o OBJ/MergeWithTourGPX2.o OBJ/gpx.o -O3 -Wall -IINCLUDE -DTWO_LEVEL_TREE -g -lm\n",
      "make[2]: Leaving directory '/home/gt/iiit/hashcode-tutorial/LKH-2.0.9/SRC'\n",
      "make[1]: Leaving directory '/home/gt/iiit/hashcode-tutorial/LKH-2.0.9/SRC'\n"
     ]
    },
    {
     "name": "stderr",
     "output_type": "stream",
     "text": [
      "--2021-02-11 17:45:40--  http://akira.ruc.dk/~keld/research/LKH/LKH-2.0.9.tgz\n",
      "Resolving akira.ruc.dk (akira.ruc.dk)... 130.225.220.230\n",
      "Connecting to akira.ruc.dk (akira.ruc.dk)|130.225.220.230|:80... connected.\n",
      "HTTP request sent, awaiting response... 200 OK\n",
      "Length: 1505409 (1.4M) [application/x-gzip]\n",
      "Saving to: ‘LKH-2.0.9.tgz’\n",
      "\n",
      "     0K .......... .......... .......... .......... ..........  3% 95.0K 15s\n",
      "    50K .......... .......... .......... .......... ..........  6%  189K 11s\n",
      "   100K .......... .......... .......... .......... .......... 10% 3.13M 7s\n",
      "   150K .......... .......... .......... .......... .......... 13% 11.4M 5s\n",
      "   200K .......... .......... .......... .......... .......... 17% 93.7K 7s\n",
      "   250K .......... .......... .......... .......... .......... 20% 35.4M 5s\n",
      "   300K .......... .......... .......... .......... .......... 23% 72.4M 4s\n",
      "   350K .......... .......... .......... .......... .......... 27% 79.9M 4s\n",
      "   400K .......... .......... .......... .......... .......... 30% 81.7M 3s\n",
      "   450K .......... .......... .......... .......... .......... 34% 69.8M 3s\n",
      "   500K .......... .......... .......... .......... .......... 37% 5.69M 2s\n",
      "   550K .......... .......... .......... .......... .......... 40%  229K 2s\n",
      "   600K .......... .......... .......... .......... .......... 44% 2.28M 2s\n",
      "   650K .......... .......... .......... .......... .......... 47% 3.67M 2s\n",
      "   700K .......... .......... .......... .......... .......... 51%  177K 2s\n",
      "   750K .......... .......... .......... .......... .......... 54%  105M 2s\n",
      "   800K .......... .......... .......... .......... .......... 57% 93.1M 1s\n",
      "   850K .......... .......... .......... .......... .......... 61%  107M 1s\n",
      "   900K .......... .......... .......... .......... .......... 64%  213K 1s\n",
      "   950K .......... .......... .......... .......... .......... 68% 7.87M 1s\n",
      "  1000K .......... .......... .......... .......... .......... 71%  222K 1s\n",
      "  1050K .......... .......... .......... .......... .......... 74% 1.55M 1s\n",
      "  1100K .......... .......... .......... .......... .......... 78% 7.70M 1s\n",
      "  1150K .......... .......... .......... .......... .......... 81%  209K 1s\n",
      "  1200K .......... .......... .......... .......... .......... 85% 2.88M 0s\n",
      "  1250K .......... .......... .......... .......... .......... 88% 4.31M 0s\n",
      "  1300K .......... .......... .......... .......... .......... 91%  224K 0s\n",
      "  1350K .......... .......... .......... .......... .......... 95% 1.84M 0s\n",
      "  1400K .......... .......... .......... .......... .......... 98% 3.86M 0s\n",
      "  1450K .......... ..........                                 100% 1.21M=2.9s\n",
      "\n",
      "2021-02-11 17:45:45 (499 KB/s) - ‘LKH-2.0.9.tgz’ saved [1505409/1505409]\n",
      "\n",
      "ReadEdges.c: In function ‘ReadEdges’:\n",
      "ReadEdges.c:31:9: warning: ignoring return value of ‘fscanf’, declared with attribute warn_unused_result [-Wunused-result]\n",
      "   31 |         fscanf(EdgeFile, \"%d %d\\n\", &i, &Edges);\n",
      "      |         ^~~~~~~~~~~~~~~~~~~~~~~~~~~~~~~~~~~~~~~\n",
      "ReadEdges.c:36:13: warning: ignoring return value of ‘fgets’, declared with attribute warn_unused_result [-Wunused-result]\n",
      "   36 |             fgets(line, 80, EdgeFile);\n",
      "      |             ^~~~~~~~~~~~~~~~~~~~~~~~~\n"
     ]
    }
   ]
  },
  {
   "metadata": {
    "_uuid": "c70039f3b743e5f2165cbe0686ef7faa8710e4f1"
   },
   "cell_type": "markdown",
   "source": [
    "<h2>3. Prepare inputs</h2>\n",
    "\n",
    "We need to write a TSPLIB file and a parameters file to run LKH."
   ]
  },
  {
   "cell_type": "code",
   "execution_count": 2,
   "outputs": [
    {
     "name": "stdout",
     "output_type": "stream",
     "text": [
      "Number of images 80000 and number of pairs: 200000\n"
     ]
    }
   ],
   "source": [
    "import utils\n",
    "import collections\n",
    "filename = \"b_lovely_landscapes\"\n",
    "\n",
    "\n",
    "def create_data_model():\n",
    "    \"\"\"Stores the data for the problem.\"\"\"\n",
    "    alignments, tags = utils.read_input(filename)\n",
    "    find_tag = collections.defaultdict(list)\n",
    "    for idx, image_tags in enumerate(tags):\n",
    "        for tag in image_tags:\n",
    "            find_tag[tag].append(idx)\n",
    "    pairs_set = set()\n",
    "    for key, value in find_tag.items():\n",
    "        if len(value) == 2:\n",
    "            if value[0] > value[1]:\n",
    "                value[1], value[0] = value[0], value[1]\n",
    "            pairs_set.add((value[0], value[1]))\n",
    "        elif len(value) > 2:\n",
    "            raise ValueError(\"The same tag appears in %d photos, not expected in subpart-B\" % len(value))\n",
    "    return pairs_set, len(tags)\n",
    "\n",
    "pairs, image_count = create_data_model()\n",
    "print(f\"Number of images {image_count} and number of pairs: {len(pairs)}\")"
   ],
   "metadata": {
    "collapsed": false,
    "pycharm": {
     "name": "#%%\n"
    }
   }
  },
  {
   "metadata": {
    "trusted": true,
    "_uuid": "f1354d1c4b641dc26b7d208a0eb4136bf17d2b00"
   },
   "cell_type": "code",
   "source": [
    "import tqdm\n",
    "\n",
    "def write_tsp(image_count, filename):\n",
    "    with open(filename, 'w') as f:\n",
    "        f.write('NAME : %s\\n' % filename)\n",
    "        f.write('COMMENT : %s\\n' % filename)\n",
    "        f.write('TYPE : TSP\\n')\n",
    "        f.write('DIMENSION : %d\\n' % image_count)\n",
    "        f.write(\"EDGE_DATA_FORMAT: EDGE_LIST\\n\")\n",
    "        f.write('EDGE_DATA_SECTION\\n')\n",
    "\n",
    "        c = 0\n",
    "        for a in tqdm.trange(image_count):\n",
    "            output = \"\"\n",
    "            for b in range(a + 1, image_count):\n",
    "                if (a, b) in pairs:\n",
    "                    output += f'{a} {b}\\n'\n",
    "            c += 1\n",
    "            if c == 20:\n",
    "                f.write(output)\n",
    "                c = 0\n",
    "\n",
    "        f.write(\"-1\\n\")\n",
    "        f.write('EOF\\n')\n",
    "\n",
    "image_count = 1000\n",
    "tspfile = \"images.tsp\"\n",
    "write_tsp(image_count, tspfile)"
   ],
   "execution_count": 9,
   "outputs": [
    {
     "name": "stderr",
     "output_type": "stream",
     "text": [
      "100%|██████████| 1000/1000 [00:00<00:00, 12704.70it/s]\n"
     ]
    }
   ]
  },
  {
   "metadata": {
    "_uuid": "2ea035a492f19e9ea6be9d09db77c9790c8d22a1"
   },
   "cell_type": "markdown",
   "source": [
    "For a full list of parameters check the [LKH User Guide](http://akira.ruc.dk/~keld/research/LKH/LKH-2.0/DOC/LKH-2.0_USER_GUIDE.pdf).  I've also created a [discussion here](https://www.kaggle.com/c/traveling-santa-2018-prime-paths/discussion/73694), since there are many options."
   ]
  },
  {
   "metadata": {
    "trusted": true,
    "_uuid": "baf152879fd5367830206d3dcae9c8918bb070e7"
   },
   "cell_type": "code",
   "source": [
    "def write_parameters(parameters, filename='params.par'):\n",
    "    with open(filename, 'w') as f:\n",
    "        for param, value in parameters:\n",
    "            f.write(\"{} = {}\\n\".format(param, value))\n",
    "    print(\"Parameters saved as\", filename)\n",
    "\n",
    "parameters = [\n",
    "    (\"PROBLEM_FILE\", tspfile),\n",
    "    (\"OUTPUT_TOUR_FILE\", \"tsp_solution.csv\"),\n",
    "    (\"SEED\", 2018),\n",
    "    ('CANDIDATE_SET_TYPE', 'POPMUSIC'), #'NEAREST-NEIGHBOR', 'ALPHA'),\n",
    "    ('INITIAL_PERIOD', 10000),\n",
    "    ('MAX_TRIALS', 1000),\n",
    "]\n",
    "write_parameters(parameters)"
   ],
   "execution_count": 11,
   "outputs": [
    {
     "name": "stdout",
     "output_type": "stream",
     "text": [
      "Parameters saved as params.par\n"
     ]
    }
   ]
  },
  {
   "metadata": {
    "_uuid": "78d5d26f0dd5ec414374766f6f505cf5631ae56c"
   },
   "cell_type": "markdown",
   "source": "<h2>4. Run and write submission</h2>\n\nI'm using a timeout to kill the process after 5 hours."
  },
  {
   "metadata": {
    "trusted": true,
    "_uuid": "6622f70b221851c4f1fdca11a9277e269f2e4268",
    "_kg_hide-output": true
   },
   "cell_type": "code",
   "source": "%%bash -e\ncd ./LKH-2.0.9\ntimeout 18000s ./LKH params.par",
   "execution_count": null,
   "outputs": []
  },
  {
   "metadata": {
    "_uuid": "0dc8feaee740a4aab78a10834dbe37bd297b81c8"
   },
   "cell_type": "markdown",
   "source": "Read the output file and make a list (tour) of cities."
  },
  {
   "metadata": {
    "trusted": true,
    "_uuid": "bad8071f291662c6287d6880f56f2277ef833d6d"
   },
   "cell_type": "code",
   "source": "def read_tour(filename):\n    tour = []\n    for line in open(filename).readlines():\n        line = line.replace('\\n', '')\n        try:\n            tour.append(int(line) - 1)\n        except ValueError as e:\n            pass  # skip if not a city id (int)\n    return tour[:-1]\n\ntour = read_tour('../working/LKH-2.0.9/tsp_solution.csv')\nprint(\"Tour length\", len(tour))",
   "execution_count": null,
   "outputs": []
  },
  {
   "metadata": {
    "_uuid": "920b29aef18e269166215d072b9f3a8afc6db7aa"
   },
   "cell_type": "markdown",
   "source": "Finally, we can print the score (considering prime twist) and write the submission file."
  },
  {
   "metadata": {
    "trusted": true,
    "_uuid": "9e46de26445faefe04aeade9b4c1cf3aeb284371"
   },
   "cell_type": "code",
   "source": "import numpy as np\nimport sympy\n\ndef score_tour(tour):\n    df = cities.reindex(tour + [0]).reset_index()\n    primes = list(sympy.primerange(0, len(cities)))\n    df['prime'] = df.CityId.isin(primes).astype(int)\n    df['dist'] = np.hypot(df.X - df.X.shift(-1), df.Y - df.Y.shift(-1))\n    df['penalty'] = df['dist'][9::10] * (1 - df['prime'][9::10]) * 0.1\n    return df.dist.sum() + df.penalty.sum()\n\ndef write_submission(tour, filename):\n    assert set(tour) == set(range(len(tour)))\n    pd.DataFrame({'Path': list(tour) + [0]}).to_csv(filename, index=False)\n\nprint(\"Final score\", score_tour(tour))\nwrite_submission(tour, 'submission.csv')",
   "execution_count": null,
   "outputs": []
  },
  {
   "metadata": {
    "_uuid": "4abbd66a5d42267b2d909fe873c3a95d13660bd8"
   },
   "cell_type": "markdown",
   "source": "Thanks for reading and merry christmas!"
  }
 ],
 "metadata": {
  "kernelspec": {
   "name": "pycharm-ba2c689e",
   "language": "python",
   "display_name": "PyCharm (hashcode-tutorial)"
  },
  "language_info": {
   "name": "python",
   "version": "3.6.6",
   "mimetype": "text/x-python",
   "codemirror_mode": {
    "name": "ipython",
    "version": 3
   },
   "pygments_lexer": "ipython3",
   "nbconvert_exporter": "python",
   "file_extension": ".py"
  }
 },
 "nbformat": 4,
 "nbformat_minor": 1
}